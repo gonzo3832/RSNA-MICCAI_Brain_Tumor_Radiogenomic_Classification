{
 "cells": [
  {
   "cell_type": "markdown",
   "source": [
    "# Over view\n",
    "Baseとなるモデルを作成する\n",
    "- model:Efficientnet 3D ver  \n",
    "ref:https://www.kaggle.com/rluethy/efficientnet3d-with-one-mri-type"
   ],
   "metadata": {
    "papermill": {
     "duration": 0.032873,
     "end_time": "2021-08-06T22:40:58.328265",
     "exception": false,
     "start_time": "2021-08-06T22:40:58.295392",
     "status": "completed"
    },
    "tags": []
   }
  },
  {
   "cell_type": "markdown",
   "source": [
    "### Contents\n",
    "工事中"
   ],
   "metadata": {
    "papermill": {
     "duration": 0.02841,
     "end_time": "2021-08-06T22:40:58.387241",
     "exception": false,
     "start_time": "2021-08-06T22:40:58.358831",
     "status": "completed"
    },
    "tags": []
   }
  },
  {
   "cell_type": "markdown",
   "source": [
    "# Import dependancies"
   ],
   "metadata": {
    "papermill": {
     "duration": 0.027231,
     "end_time": "2021-08-06T22:40:58.442876",
     "exception": false,
     "start_time": "2021-08-06T22:40:58.415645",
     "status": "completed"
    },
    "tags": []
   }
  },
  {
   "cell_type": "code",
   "execution_count": 1,
   "source": [
    "import os\n",
    "import sys \n",
    "import json\n",
    "import glob\n",
    "import random\n",
    "import collections\n",
    "import time\n",
    "import re\n",
    "\n",
    "import numpy as np\n",
    "import pandas as pd\n",
    "import pydicom\n",
    "from pydicom.pixel_data_handlers.util import apply_voi_lut\n",
    "import cv2\n",
    "import matplotlib.pyplot as plt\n",
    "import seaborn as sns\n",
    "\n",
    "import torch\n",
    "from torch import nn\n",
    "from torch.utils import data as torch_data\n",
    "from sklearn import model_selection as sk_model_selection\n",
    "from torch.nn import functional as torch_functional\n",
    "import torch.nn.functional as F\n",
    "\n",
    "from sklearn.model_selection import StratifiedKFold\n",
    "from sklearn.metrics import roc_auc_score"
   ],
   "outputs": [],
   "metadata": {
    "_cell_guid": "b1076dfc-b9ad-4769-8c92-a6c4dae69d19",
    "_uuid": "8f2839f25d086af736a60e9eeb907d3b93b6e0e5",
    "execution": {
     "iopub.execute_input": "2021-08-06T22:40:58.490418Z",
     "iopub.status.busy": "2021-08-06T22:40:58.489887Z",
     "iopub.status.idle": "2021-08-06T22:41:01.180884Z",
     "shell.execute_reply": "2021-08-06T22:41:01.179906Z",
     "shell.execute_reply.started": "2021-08-06T10:38:39.259623Z"
    },
    "papermill": {
     "duration": 2.720645,
     "end_time": "2021-08-06T22:41:01.181065",
     "exception": false,
     "start_time": "2021-08-06T22:40:58.460420",
     "status": "completed"
    },
    "tags": []
   }
  },
  {
   "cell_type": "markdown",
   "source": [
    "# Config"
   ],
   "metadata": {
    "papermill": {
     "duration": 0.017439,
     "end_time": "2021-08-06T22:41:01.216713",
     "exception": false,
     "start_time": "2021-08-06T22:41:01.199274",
     "status": "completed"
    },
    "tags": []
   }
  },
  {
   "cell_type": "code",
   "execution_count": 2,
   "source": [
    "data_directory = '../input/rsna-miccai-brain-tumor-radiogenomic-classification'\n",
    "pytorch3dpath = \"../input/efficientnetpyttorch3d/EfficientNet-PyTorch-3D\"\n",
    "\n",
    "mri_types = ['FLAIR','T1w','T1wCE','T2w']\n",
    "SIZE = 256\n",
    "NUM_IMAGES = 128 \n",
    "#DUBUGのため、一旦１２８→１０に\n",
    "sys.path.append(pytorch3dpath)\n",
    "from efficientnet_pytorch_3d import EfficientNet3D"
   ],
   "outputs": [],
   "metadata": {
    "execution": {
     "iopub.execute_input": "2021-08-06T22:41:01.257534Z",
     "iopub.status.busy": "2021-08-06T22:41:01.256995Z",
     "iopub.status.idle": "2021-08-06T22:41:01.303015Z",
     "shell.execute_reply": "2021-08-06T22:41:01.302503Z",
     "shell.execute_reply.started": "2021-08-06T10:38:39.269834Z"
    },
    "papermill": {
     "duration": 0.068641,
     "end_time": "2021-08-06T22:41:01.303138",
     "exception": false,
     "start_time": "2021-08-06T22:41:01.234497",
     "status": "completed"
    },
    "tags": []
   }
  },
  {
   "cell_type": "markdown",
   "source": [
    "# Functions"
   ],
   "metadata": {
    "papermill": {
     "duration": 0.018289,
     "end_time": "2021-08-06T22:41:01.338623",
     "exception": false,
     "start_time": "2021-08-06T22:41:01.320334",
     "status": "completed"
    },
    "tags": []
   }
  },
  {
   "cell_type": "markdown",
   "source": [
    "### 1. load images"
   ],
   "metadata": {
    "papermill": {
     "duration": 0.019153,
     "end_time": "2021-08-06T22:41:01.377002",
     "exception": false,
     "start_time": "2021-08-06T22:41:01.357849",
     "status": "completed"
    },
    "tags": []
   }
  },
  {
   "cell_type": "code",
   "execution_count": 3,
   "source": [
    "def load_dicom_image(path, img_size=SIZE, voi_lut=True, rotate=0):\n",
    "    dicom = pydicom.read_file(path)\n",
    "    if voi_lut:\n",
    "        data = apply_voi_lut(dicom.pixel_array, dicom)\n",
    "    else:\n",
    "        data = dicom.pixel_array\n",
    "    \n",
    "    if rotate>0:\n",
    "        rot_choices = [0,\n",
    "                       cv2.ROTATE_90_CLOCKWISE, \n",
    "                       cv2.ROTATE_90_COUNTERCLOCKWISE,\n",
    "                       cv2.ROTATE_180]\n",
    "        data = cv2.rotate(data, rot_choices[rotate])\n",
    "    data = cv2.resize(data, (img_size,img_size))\n",
    "    # アウトプットは　H　* W \n",
    "    return data\n",
    "\n",
    "def load_dicom_images_3d(scan_id, \n",
    "                         num_imgs=NUM_IMAGES, \n",
    "                         img_size=SIZE, \n",
    "                         mri_type='FLAIR',\n",
    "                         split='train',\n",
    "                         rotate=0):\n",
    "    # mri_type フォルダ内の画像pathを昇順？にソートして取得\n",
    "    files = sorted(glob.glob(f'{data_directory}/{split}/{scan_id}/{mri_type}/*.dcm'),\n",
    "                   key=lambda var:[int(x) if x.isdigit() else x for x in re.findall(r'[^0-9]|[0-9]+', var)])\n",
    "    #　数字の昇順にsortされると思うが、なぜこれでsortできるかわからない...\n",
    "    # 数字を返すべきところでfile pathを返しているように思う\n",
    "    \n",
    "    # ---------3D配列生成----------\n",
    "    middle = len(files)//2\n",
    "    middle_num_imgs = num_imgs//2\n",
    "    p1 = max(0,middle - middle_num_imgs)\n",
    "    p2 = min(len(files),middle + middle_num_imgs)\n",
    "    \n",
    "    # 総画像の中央から必要枚数分抜き出す\n",
    "    # D * H *W * Cから　H * W * D に\n",
    "    img3d = np.stack([load_dicom_image(f,rotate=rotate)for f in files[p1:p2]]).transpose(1,2,0)\n",
    "    \n",
    "    # 総画像が必要枚数（num_imgs)無かった場合,空の配列で補完\n",
    "    if img3d.shape[-1] < num_imgs:\n",
    "        n_zero = np.zeros((img_size, img_size, num_imgs - img3d.shape[-1]))\n",
    "        img3d = np.concatenate((img3d, n_zero),axis = -1)\n",
    "    \n",
    "    #0-1で正規化    \n",
    "    img3d = img3d - np.min(img3d)\n",
    "    img3d = img3d / np.max(img3d)\n",
    "    \n",
    "    # チャネルの次元を加えてあげてreturn(モノクロ画像なので一次元)\n",
    "    return np.expand_dims(img3d,0)\n",
    "\n",
    "    \n",
    "#　症例00000に対してテスト\n",
    "test_2d = load_dicom_image(glob.glob(f'{data_directory}/train/00000/FLAIR/*.dcm')[0])\n",
    "print(test_2d.shape)\n",
    "plt.imshow(test_2d)\n",
    "test_3d = load_dicom_images_3d('00000')\n",
    "print(test_3d.shape)\n"
   ],
   "outputs": [
    {
     "output_type": "stream",
     "name": "stdout",
     "text": [
      "(256, 256)\n",
      "(1, 256, 256, 128)\n"
     ]
    },
    {
     "output_type": "display_data",
     "data": {
      "text/plain": [
       "<Figure size 432x288 with 1 Axes>"
      ],
      "image/png": "[encoded data removed]"
     },
     "metadata": {
      "needs_background": "light"
     }
    }
   ],
   "metadata": {
    "execution": {
     "iopub.execute_input": "2021-08-06T22:41:01.426853Z",
     "iopub.status.busy": "2021-08-06T22:41:01.426089Z",
     "iopub.status.idle": "2021-08-06T22:41:03.206076Z",
     "shell.execute_reply": "2021-08-06T22:41:03.206482Z",
     "shell.execute_reply.started": "2021-08-06T10:38:39.291845Z"
    },
    "papermill": {
     "duration": 1.810455,
     "end_time": "2021-08-06T22:41:03.206635",
     "exception": false,
     "start_time": "2021-08-06T22:41:01.396180",
     "status": "completed"
    },
    "tags": []
   }
  },
  {
   "cell_type": "markdown",
   "source": [
    "### 2.set seed"
   ],
   "metadata": {
    "papermill": {
     "duration": 0.019416,
     "end_time": "2021-08-06T22:41:03.245134",
     "exception": false,
     "start_time": "2021-08-06T22:41:03.225718",
     "status": "completed"
    },
    "tags": []
   }
  },
  {
   "cell_type": "code",
   "execution_count": 4,
   "source": [
    "def set_seed(seed):\n",
    "    random.seed(seed)\n",
    "    os.environ['PYTHONHASHSEED'] = str(seed)\n",
    "    np.random.seed(seed)\n",
    "    torch.manual_seed(seed)\n",
    "    if torch.cuda.is_available():\n",
    "        torch.cuda.manual_seed_all(seed)\n",
    "        torch.backends.cudnn.deterministic = True\n",
    "        \n",
    "set_seed(42)"
   ],
   "outputs": [],
   "metadata": {
    "execution": {
     "iopub.execute_input": "2021-08-06T22:41:03.288182Z",
     "iopub.status.busy": "2021-08-06T22:41:03.287418Z",
     "iopub.status.idle": "2021-08-06T22:41:03.336295Z",
     "shell.execute_reply": "2021-08-06T22:41:03.335785Z",
     "shell.execute_reply.started": "2021-08-06T10:38:40.78289Z"
    },
    "papermill": {
     "duration": 0.072722,
     "end_time": "2021-08-06T22:41:03.336431",
     "exception": false,
     "start_time": "2021-08-06T22:41:03.263709",
     "status": "completed"
    },
    "tags": []
   }
  },
  {
   "cell_type": "markdown",
   "source": [
    "# Training"
   ],
   "metadata": {
    "papermill": {
     "duration": 0.018408,
     "end_time": "2021-08-06T22:41:03.375700",
     "exception": false,
     "start_time": "2021-08-06T22:41:03.357292",
     "status": "completed"
    },
    "tags": []
   }
  },
  {
   "cell_type": "markdown",
   "source": [
    "## 1. train/test splits "
   ],
   "metadata": {
    "papermill": {
     "duration": 0.01826,
     "end_time": "2021-08-06T22:41:03.412637",
     "exception": false,
     "start_time": "2021-08-06T22:41:03.394377",
     "status": "completed"
    },
    "tags": []
   }
  },
  {
   "cell_type": "code",
   "execution_count": 5,
   "source": [
    "train_df = pd.read_csv(f'{data_directory}/train_labels.csv')\n",
    "\n",
    "df_train, df_valid = sk_model_selection.train_test_split(\n",
    "    train_df,\n",
    "    test_size = 0.2,\n",
    "    random_state = 42,\n",
    "    #陰性、陽性の比率がtrain と　testで等しくなる用にsplit\n",
    "    stratify = train_df['MGMT_value']\n",
    ")"
   ],
   "outputs": [],
   "metadata": {
    "execution": {
     "iopub.execute_input": "2021-08-06T22:41:03.454623Z",
     "iopub.status.busy": "2021-08-06T22:41:03.454040Z",
     "iopub.status.idle": "2021-08-06T22:41:03.473396Z",
     "shell.execute_reply": "2021-08-06T22:41:03.472983Z",
     "shell.execute_reply.started": "2021-08-06T10:38:40.790869Z"
    },
    "papermill": {
     "duration": 0.042283,
     "end_time": "2021-08-06T22:41:03.473509",
     "exception": false,
     "start_time": "2021-08-06T22:41:03.431226",
     "status": "completed"
    },
    "tags": []
   }
  },
  {
   "cell_type": "markdown",
   "source": [
    "## 2. define Dataset class "
   ],
   "metadata": {
    "papermill": {
     "duration": 0.018356,
     "end_time": "2021-08-06T22:41:03.510406",
     "exception": false,
     "start_time": "2021-08-06T22:41:03.492050",
     "status": "completed"
    },
    "tags": []
   }
  },
  {
   "cell_type": "code",
   "execution_count": 6,
   "source": [
    "class Dataset(torch_data.Dataset):\n",
    "    def __init__(self, paths, targets=None, mri_type=None, label_smoothing=0.01, split=\"train\", augment=False):\n",
    "        # paths: pd.sereis(index(patientid),path)\n",
    "        # target: 正解ラベル\n",
    "        \n",
    "        self.paths = paths\n",
    "        self.targets = targets\n",
    "        self.mri_type = mri_type\n",
    "        self.label_smoothing = label_smoothing\n",
    "        self.split = split\n",
    "        self.augment = augment\n",
    "          \n",
    "    def __len__(self):\n",
    "        return len(self.paths)\n",
    "    \n",
    "    def __getitem__(self, index):\n",
    "        scan_id = self.paths[index]\n",
    "        if self.targets is None:\n",
    "            # idは５桁なのでゼロバディングする\n",
    "            \n",
    "            data = load_dicom_images_3d(str(scan_id).zfill(5), mri_type=self.mri_type[index], split=self.split)\n",
    "        else:\n",
    "            if self.augment:\n",
    "                rotation = np.random.randint(0,4)\n",
    "            else:\n",
    "                rotation = 0\n",
    "\n",
    "            data = load_dicom_images_3d(str(scan_id).zfill(5), mri_type=self.mri_type[index], split=\"train\", rotate=rotation)\n",
    "\n",
    "        if self.targets is None:\n",
    "            return {\"X\": torch.tensor(data).float(), \"id\": scan_id}\n",
    "        else:\n",
    "            y = torch.tensor(abs(self.targets[index]-self.label_smoothing), dtype=torch.float)\n",
    "            return {\"X\": torch.tensor(data).float(), \"y\": y}\n"
   ],
   "outputs": [],
   "metadata": {
    "execution": {
     "iopub.execute_input": "2021-08-06T22:41:03.556907Z",
     "iopub.status.busy": "2021-08-06T22:41:03.556327Z",
     "iopub.status.idle": "2021-08-06T22:41:03.558833Z",
     "shell.execute_reply": "2021-08-06T22:41:03.559226Z",
     "shell.execute_reply.started": "2021-08-06T10:38:40.806277Z"
    },
    "papermill": {
     "duration": 0.030297,
     "end_time": "2021-08-06T22:41:03.559351",
     "exception": false,
     "start_time": "2021-08-06T22:41:03.529054",
     "status": "completed"
    },
    "tags": []
   }
  },
  {
   "cell_type": "markdown",
   "source": [
    "## Define model"
   ],
   "metadata": {
    "papermill": {
     "duration": 0.018351,
     "end_time": "2021-08-06T22:41:03.596170",
     "exception": false,
     "start_time": "2021-08-06T22:41:03.577819",
     "status": "completed"
    },
    "tags": []
   }
  },
  {
   "cell_type": "code",
   "execution_count": 7,
   "source": [
    "class Model(nn.Module):\n",
    "    def __init__(self):\n",
    "        super().__init__()\n",
    "        self.net = EfficientNet3D.from_name(\n",
    "            'efficientnet-b0',\n",
    "            override_params = {'num_classes':2}, \n",
    "            in_channels = 1)\n",
    "        n_features = self.net._fc.in_features\n",
    "        self.net._fc = nn.Linear(in_features = n_features,out_features=1,bias=True)\n",
    "        \n",
    "    def forward(self,x):\n",
    "        out = self.net(x)\n",
    "        return out"
   ],
   "outputs": [],
   "metadata": {
    "execution": {
     "iopub.execute_input": "2021-08-06T22:41:03.638593Z",
     "iopub.status.busy": "2021-08-06T22:41:03.638098Z",
     "iopub.status.idle": "2021-08-06T22:41:03.641838Z",
     "shell.execute_reply": "2021-08-06T22:41:03.641436Z",
     "shell.execute_reply.started": "2021-08-06T10:38:40.818783Z"
    },
    "papermill": {
     "duration": 0.027193,
     "end_time": "2021-08-06T22:41:03.641957",
     "exception": false,
     "start_time": "2021-08-06T22:41:03.614764",
     "status": "completed"
    },
    "tags": []
   }
  },
  {
   "cell_type": "markdown",
   "source": [
    "## Define Trainer:"
   ],
   "metadata": {
    "papermill": {
     "duration": 0.018189,
     "end_time": "2021-08-06T22:41:03.678563",
     "exception": false,
     "start_time": "2021-08-06T22:41:03.660374",
     "status": "completed"
    },
    "tags": []
   }
  },
  {
   "cell_type": "code",
   "execution_count": 8,
   "source": [
    "class Trainer:\n",
    "    def __init__(\n",
    "        self, \n",
    "        model, \n",
    "        device, \n",
    "        optimizer, \n",
    "        criterion\n",
    "    ):\n",
    "        self.model = model\n",
    "        self.device = device\n",
    "        self.optimizer = optimizer\n",
    "        self.criterion = criterion\n",
    "\n",
    "        self.best_valid_score = np.inf\n",
    "        self.n_patience = 0\n",
    "        self.lastmodel = None\n",
    "        \n",
    "    def fit(self, epochs, train_loader, valid_loader, save_path, patience):        \n",
    "        for n_epoch in range(1, epochs + 1):\n",
    "            self.info_message(\"EPOCH: {}\", n_epoch)\n",
    "            \n",
    "            train_loss, train_time = self.train_epoch(train_loader)\n",
    "            valid_loss, valid_auc, valid_time = self.valid_epoch(valid_loader)\n",
    "            \n",
    "            self.info_message(\n",
    "                \"[Epoch Train: {}] loss: {:.4f}, time: {:.2f} s            \",\n",
    "                n_epoch, train_loss, train_time\n",
    "            )\n",
    "            \n",
    "            self.info_message(\n",
    "                \"[Epoch Valid: {}] loss: {:.4f}, auc: {:.4f}, time: {:.2f} s\",\n",
    "                n_epoch, valid_loss, valid_auc, valid_time\n",
    "            )\n",
    "\n",
    "            # if True:\n",
    "            # if self.best_valid_score < valid_auc: \n",
    "            if self.best_valid_score > valid_loss: \n",
    "                self.save_model(n_epoch, save_path, valid_loss, valid_auc)\n",
    "                self.info_message(\n",
    "                     \"auc improved from {:.4f} to {:.4f}. Saved model to '{}'\", \n",
    "                    self.best_valid_score, valid_loss, self.lastmodel\n",
    "                )\n",
    "                self.best_valid_score = valid_loss\n",
    "                self.n_patience = 0\n",
    "            else:\n",
    "                self.n_patience += 1\n",
    "            # patience = epoch数になっているのがよくわからない\n",
    "            if self.n_patience >= patience:\n",
    "                self.info_message(\"\\nValid auc didn't improve last {} epochs.\", patience)\n",
    "                break\n",
    "            \n",
    "    def train_epoch(self, train_loader):\n",
    "        self.model.train()\n",
    "        t = time.time()\n",
    "        sum_loss = 0\n",
    "\n",
    "        for step, batch in enumerate(train_loader, 1):\n",
    "            X = batch[\"X\"].to(self.device)\n",
    "            targets = batch[\"y\"].to(self.device)\n",
    "            self.optimizer.zero_grad()\n",
    "            outputs = self.model(X).squeeze(1)\n",
    "            \n",
    "            loss = self.criterion(outputs, targets)\n",
    "            loss.backward()\n",
    "\n",
    "            sum_loss += loss.detach().item()\n",
    "                #????ここだけﾜｶﾗﾝ\n",
    "            self.optimizer.step()\n",
    "            \n",
    "            message = 'Train Step {}/{}, train_loss: {:.4f}'\n",
    "            self.info_message(message, step, len(train_loader), sum_loss/step, end=\"\\r\")\n",
    "        \n",
    "        return sum_loss/len(train_loader), int(time.time() - t)\n",
    "    \n",
    "    def valid_epoch(self, valid_loader):\n",
    "        self.model.eval()\n",
    "        t = time.time()\n",
    "        sum_loss = 0\n",
    "        y_all = []\n",
    "        outputs_all = []\n",
    "\n",
    "        for step, batch in enumerate(valid_loader, 1):\n",
    "            with torch.no_grad():\n",
    "                X = batch[\"X\"].to(self.device)\n",
    "                targets = batch[\"y\"].to(self.device)\n",
    "\n",
    "                outputs = self.model(X).squeeze(1)\n",
    "                loss = self.criterion(outputs, targets)\n",
    "\n",
    "                sum_loss += loss.detach().item()\n",
    "                y_all.extend(batch[\"y\"].tolist())\n",
    "                outputs_all.extend(outputs.tolist())\n",
    "\n",
    "            message = 'Valid Step {}/{}, valid_loss: {:.4f}'\n",
    "            self.info_message(message, step, len(valid_loader), sum_loss/step, end=\"\\r\")\n",
    "            \n",
    "        y_all = [1 if x > 0.5 else 0 for x in y_all]\n",
    "        auc = roc_auc_score(y_all, outputs_all)\n",
    "        \n",
    "        return sum_loss/len(valid_loader), auc, int(time.time() - t)\n",
    "    \n",
    "    def save_model(self, n_epoch, save_path, loss, auc):\n",
    "        self.lastmodel = f\"{save_path}-e{n_epoch}-loss{loss:.3f}-auc{auc:.3f}.pth\"\n",
    "        torch.save(\n",
    "            {\n",
    "                \"model_state_dict\": self.model.state_dict(),\n",
    "                \"optimizer_state_dict\": self.optimizer.state_dict(),\n",
    "                \"best_valid_score\": self.best_valid_score,\n",
    "                \"n_epoch\": n_epoch,\n",
    "            },\n",
    "            self.lastmodel,\n",
    "        )\n",
    "    \n",
    "    @staticmethod\n",
    "    def info_message(message, *args, end=\"\\n\"):\n",
    "        print(message.format(*args), end=end)\n"
   ],
   "outputs": [],
   "metadata": {
    "execution": {
     "iopub.execute_input": "2021-08-06T22:41:03.734982Z",
     "iopub.status.busy": "2021-08-06T22:41:03.733665Z",
     "iopub.status.idle": "2021-08-06T22:41:03.736421Z",
     "shell.execute_reply": "2021-08-06T22:41:03.736013Z",
     "shell.execute_reply.started": "2021-08-06T10:38:40.83234Z"
    },
    "papermill": {
     "duration": 0.039474,
     "end_time": "2021-08-06T22:41:03.736525",
     "exception": false,
     "start_time": "2021-08-06T22:41:03.697051",
     "status": "completed"
    },
    "tags": []
   }
  },
  {
   "cell_type": "markdown",
   "source": [
    "# Train models"
   ],
   "metadata": {
    "papermill": {
     "duration": 0.018258,
     "end_time": "2021-08-06T22:41:03.773311",
     "exception": false,
     "start_time": "2021-08-06T22:41:03.755053",
     "status": "completed"
    },
    "tags": []
   }
  },
  {
   "cell_type": "code",
   "execution_count": 9,
   "source": [
    "device = torch.device(\"cuda\" if torch.cuda.is_available() else \"cpu\")\n",
    "\n",
    "def train_mri_type(df_train, df_valid, mri_type):\n",
    "    if mri_type==\"all\":\n",
    "        train_list = []\n",
    "        valid_list = []\n",
    "        for mri_type in mri_types:\n",
    "            df_train.loc[:,\"MRI_Type\"] = mri_type\n",
    "            train_list.append(df_train.copy())\n",
    "            df_valid.loc[:,\"MRI_Type\"] = mri_type\n",
    "            valid_list.append(df_valid.copy())\n",
    "\n",
    "        df_train = pd.concat(train_list)\n",
    "        df_valid = pd.concat(valid_list)\n",
    "    else:\n",
    "        df_train.loc[:,\"MRI_Type\"] = mri_type\n",
    "        df_valid.loc[:,\"MRI_Type\"] = mri_type\n",
    "\n",
    "    print(df_train.shape, df_valid.shape)\n",
    "    display(df_train.head())\n",
    "    \n",
    "    train_data_retriever = Dataset(\n",
    "        df_train[\"BraTS21ID\"].values, \n",
    "        df_train[\"MGMT_value\"].values, \n",
    "        df_train[\"MRI_Type\"].values,\n",
    "        augment=True\n",
    "    )\n",
    "\n",
    "    valid_data_retriever = Dataset(\n",
    "        df_valid[\"BraTS21ID\"].values, \n",
    "        df_valid[\"MGMT_value\"].values,\n",
    "        df_valid[\"MRI_Type\"].values\n",
    "    )\n",
    "\n",
    "    train_loader = torch_data.DataLoader(\n",
    "        train_data_retriever,\n",
    "        batch_size=4,\n",
    "        shuffle=True,\n",
    "        num_workers=8,\n",
    "    )\n",
    "\n",
    "    valid_loader = torch_data.DataLoader(\n",
    "        valid_data_retriever, \n",
    "        batch_size=4,\n",
    "        shuffle=False,\n",
    "        num_workers=8,\n",
    "    )\n",
    "\n",
    "    model = Model()\n",
    "    model.to(device)\n",
    "\n",
    "    optimizer = torch.optim.Adam(model.parameters(), lr=0.001)\n",
    "    criterion = torch_functional.binary_cross_entropy_with_logits\n",
    "\n",
    "    trainer = Trainer(\n",
    "        model, \n",
    "        device, \n",
    "        optimizer, \n",
    "        criterion\n",
    "    )\n",
    "\n",
    "    history = trainer.fit(\n",
    "        # DEBUGのため、一旦3で回す\n",
    "        3, \n",
    "        train_loader, \n",
    "        valid_loader, \n",
    "        f\"{mri_type}\", \n",
    "        10,\n",
    "    )\n",
    "    \n",
    "    return trainer.lastmodel\n",
    "\n",
    "modelfiles = None\n",
    "\n",
    "if not modelfiles:\n",
    "    modelfiles = [train_mri_type(df_train, df_valid, m) for m in mri_types]\n",
    "    print(modelfiles)"
   ],
   "outputs": [
    {
     "output_type": "stream",
     "name": "stdout",
     "text": [
      "(468, 3) (117, 3)\n"
     ]
    },
    {
     "output_type": "stream",
     "name": "stderr",
     "text": [
      "/opt/conda/lib/python3.7/site-packages/pandas/core/indexing.py:1597: SettingWithCopyWarning: \n",
      "A value is trying to be set on a copy of a slice from a DataFrame.\n",
      "Try using .loc[row_indexer,col_indexer] = value instead\n",
      "\n",
      "See the caveats in the documentation: https://pandas.pydata.org/pandas-docs/stable/user_guide/indexing.html#returning-a-view-versus-a-copy\n",
      "  self.obj[key] = value\n",
      "/opt/conda/lib/python3.7/site-packages/pandas/core/indexing.py:1720: SettingWithCopyWarning: \n",
      "A value is trying to be set on a copy of a slice from a DataFrame.\n",
      "Try using .loc[row_indexer,col_indexer] = value instead\n",
      "\n",
      "See the caveats in the documentation: https://pandas.pydata.org/pandas-docs/stable/user_guide/indexing.html#returning-a-view-versus-a-copy\n",
      "  self._setitem_single_column(loc, value, pi)\n"
     ]
    },
    {
     "output_type": "display_data",
     "data": {
      "text/plain": [
       "     BraTS21ID  MGMT_value MRI_Type\n",
       "102        154           0    FLAIR\n",
       "161        240           1    FLAIR\n",
       "508        740           1    FLAIR\n",
       "495        725           1    FLAIR\n",
       "298        432           0    FLAIR"
      ],
      "text/html": [
       "<div>\n",
       "<style scoped>\n",
       "    .dataframe tbody tr th:only-of-type {\n",
       "        vertical-align: middle;\n",
       "    }\n",
       "\n",
       "    .dataframe tbody tr th {\n",
       "        vertical-align: top;\n",
       "    }\n",
       "\n",
       "    .dataframe thead th {\n",
       "        text-align: right;\n",
       "    }\n",
       "</style>\n",
       "<table border=\"1\" class=\"dataframe\">\n",
       "  <thead>\n",
       "    <tr style=\"text-align: right;\">\n",
       "      <th></th>\n",
       "      <th>BraTS21ID</th>\n",
       "      <th>MGMT_value</th>\n",
       "      <th>MRI_Type</th>\n",
       "    </tr>\n",
       "  </thead>\n",
       "  <tbody>\n",
       "    <tr>\n",
       "      <th>102</th>\n",
       "      <td>154</td>\n",
       "      <td>0</td>\n",
       "      <td>FLAIR</td>\n",
       "    </tr>\n",
       "    <tr>\n",
       "      <th>161</th>\n",
       "      <td>240</td>\n",
       "      <td>1</td>\n",
       "      <td>FLAIR</td>\n",
       "    </tr>\n",
       "    <tr>\n",
       "      <th>508</th>\n",
       "      <td>740</td>\n",
       "      <td>1</td>\n",
       "      <td>FLAIR</td>\n",
       "    </tr>\n",
       "    <tr>\n",
       "      <th>495</th>\n",
       "      <td>725</td>\n",
       "      <td>1</td>\n",
       "      <td>FLAIR</td>\n",
       "    </tr>\n",
       "    <tr>\n",
       "      <th>298</th>\n",
       "      <td>432</td>\n",
       "      <td>0</td>\n",
       "      <td>FLAIR</td>\n",
       "    </tr>\n",
       "  </tbody>\n",
       "</table>\n",
       "</div>"
      ]
     },
     "metadata": {}
    },
    {
     "output_type": "stream",
     "name": "stdout",
     "text": [
      "EPOCH: 1\n",
      "[Epoch Train: 1] loss: 0.7820, time: 421.00 s            \n",
      "[Epoch Valid: 1] loss: 0.7195, auc: 0.5193, time: 67.00 s\n",
      "auc improved from inf to 0.7195. Saved model to 'FLAIR-e1-loss0.719-auc0.519.pth'\n",
      "EPOCH: 2\n",
      "[Epoch Train: 2] loss: 0.7066, time: 421.00 s            \n",
      "[Epoch Valid: 2] loss: 0.7093, auc: 0.5957, time: 66.00 s\n",
      "auc improved from 0.7195 to 0.7093. Saved model to 'FLAIR-e2-loss0.709-auc0.596.pth'\n",
      "EPOCH: 3\n",
      "[Epoch Train: 3] loss: 0.7062, time: 420.00 s            \n",
      "[Epoch Valid: 3] loss: 0.6928, auc: 0.5325, time: 67.00 s\n",
      "auc improved from 0.7093 to 0.6928. Saved model to 'FLAIR-e3-loss0.693-auc0.532.pth'\n",
      "(468, 3) (117, 3)\n"
     ]
    },
    {
     "output_type": "stream",
     "name": "stderr",
     "text": [
      "/opt/conda/lib/python3.7/site-packages/pandas/core/indexing.py:1720: SettingWithCopyWarning: \n",
      "A value is trying to be set on a copy of a slice from a DataFrame.\n",
      "Try using .loc[row_indexer,col_indexer] = value instead\n",
      "\n",
      "See the caveats in the documentation: https://pandas.pydata.org/pandas-docs/stable/user_guide/indexing.html#returning-a-view-versus-a-copy\n",
      "  self._setitem_single_column(loc, value, pi)\n"
     ]
    },
    {
     "output_type": "display_data",
     "data": {
      "text/plain": [
       "     BraTS21ID  MGMT_value MRI_Type\n",
       "102        154           0      T1w\n",
       "161        240           1      T1w\n",
       "508        740           1      T1w\n",
       "495        725           1      T1w\n",
       "298        432           0      T1w"
      ],
      "text/html": [
       "<div>\n",
       "<style scoped>\n",
       "    .dataframe tbody tr th:only-of-type {\n",
       "        vertical-align: middle;\n",
       "    }\n",
       "\n",
       "    .dataframe tbody tr th {\n",
       "        vertical-align: top;\n",
       "    }\n",
       "\n",
       "    .dataframe thead th {\n",
       "        text-align: right;\n",
       "    }\n",
       "</style>\n",
       "<table border=\"1\" class=\"dataframe\">\n",
       "  <thead>\n",
       "    <tr style=\"text-align: right;\">\n",
       "      <th></th>\n",
       "      <th>BraTS21ID</th>\n",
       "      <th>MGMT_value</th>\n",
       "      <th>MRI_Type</th>\n",
       "    </tr>\n",
       "  </thead>\n",
       "  <tbody>\n",
       "    <tr>\n",
       "      <th>102</th>\n",
       "      <td>154</td>\n",
       "      <td>0</td>\n",
       "      <td>T1w</td>\n",
       "    </tr>\n",
       "    <tr>\n",
       "      <th>161</th>\n",
       "      <td>240</td>\n",
       "      <td>1</td>\n",
       "      <td>T1w</td>\n",
       "    </tr>\n",
       "    <tr>\n",
       "      <th>508</th>\n",
       "      <td>740</td>\n",
       "      <td>1</td>\n",
       "      <td>T1w</td>\n",
       "    </tr>\n",
       "    <tr>\n",
       "      <th>495</th>\n",
       "      <td>725</td>\n",
       "      <td>1</td>\n",
       "      <td>T1w</td>\n",
       "    </tr>\n",
       "    <tr>\n",
       "      <th>298</th>\n",
       "      <td>432</td>\n",
       "      <td>0</td>\n",
       "      <td>T1w</td>\n",
       "    </tr>\n",
       "  </tbody>\n",
       "</table>\n",
       "</div>"
      ]
     },
     "metadata": {}
    },
    {
     "output_type": "stream",
     "name": "stdout",
     "text": [
      "EPOCH: 1\n",
      "[Epoch Train: 1] loss: 0.7648, time: 408.00 s            \n",
      "[Epoch Valid: 1] loss: 0.7055, auc: 0.4641, time: 55.00 s\n",
      "auc improved from inf to 0.7055. Saved model to 'T1w-e1-loss0.705-auc0.464.pth'\n",
      "EPOCH: 2\n",
      "[Epoch Train: 2] loss: 0.7123, time: 403.00 s            \n",
      "[Epoch Valid: 2] loss: 0.7030, auc: 0.4166, time: 56.00 s\n",
      "auc improved from 0.7055 to 0.7030. Saved model to 'T1w-e2-loss0.703-auc0.417.pth'\n",
      "EPOCH: 3\n",
      "[Epoch Train: 3] loss: 0.7079, time: 404.00 s            \n",
      "[Epoch Valid: 3] loss: 0.6955, auc: 0.4956, time: 57.00 s\n",
      "auc improved from 0.7030 to 0.6955. Saved model to 'T1w-e3-loss0.695-auc0.496.pth'\n",
      "(468, 3) (117, 3)\n"
     ]
    },
    {
     "output_type": "stream",
     "name": "stderr",
     "text": [
      "/opt/conda/lib/python3.7/site-packages/pandas/core/indexing.py:1720: SettingWithCopyWarning: \n",
      "A value is trying to be set on a copy of a slice from a DataFrame.\n",
      "Try using .loc[row_indexer,col_indexer] = value instead\n",
      "\n",
      "See the caveats in the documentation: https://pandas.pydata.org/pandas-docs/stable/user_guide/indexing.html#returning-a-view-versus-a-copy\n",
      "  self._setitem_single_column(loc, value, pi)\n"
     ]
    },
    {
     "output_type": "display_data",
     "data": {
      "text/plain": [
       "     BraTS21ID  MGMT_value MRI_Type\n",
       "102        154           0    T1wCE\n",
       "161        240           1    T1wCE\n",
       "508        740           1    T1wCE\n",
       "495        725           1    T1wCE\n",
       "298        432           0    T1wCE"
      ],
      "text/html": [
       "<div>\n",
       "<style scoped>\n",
       "    .dataframe tbody tr th:only-of-type {\n",
       "        vertical-align: middle;\n",
       "    }\n",
       "\n",
       "    .dataframe tbody tr th {\n",
       "        vertical-align: top;\n",
       "    }\n",
       "\n",
       "    .dataframe thead th {\n",
       "        text-align: right;\n",
       "    }\n",
       "</style>\n",
       "<table border=\"1\" class=\"dataframe\">\n",
       "  <thead>\n",
       "    <tr style=\"text-align: right;\">\n",
       "      <th></th>\n",
       "      <th>BraTS21ID</th>\n",
       "      <th>MGMT_value</th>\n",
       "      <th>MRI_Type</th>\n",
       "    </tr>\n",
       "  </thead>\n",
       "  <tbody>\n",
       "    <tr>\n",
       "      <th>102</th>\n",
       "      <td>154</td>\n",
       "      <td>0</td>\n",
       "      <td>T1wCE</td>\n",
       "    </tr>\n",
       "    <tr>\n",
       "      <th>161</th>\n",
       "      <td>240</td>\n",
       "      <td>1</td>\n",
       "      <td>T1wCE</td>\n",
       "    </tr>\n",
       "    <tr>\n",
       "      <th>508</th>\n",
       "      <td>740</td>\n",
       "      <td>1</td>\n",
       "      <td>T1wCE</td>\n",
       "    </tr>\n",
       "    <tr>\n",
       "      <th>495</th>\n",
       "      <td>725</td>\n",
       "      <td>1</td>\n",
       "      <td>T1wCE</td>\n",
       "    </tr>\n",
       "    <tr>\n",
       "      <th>298</th>\n",
       "      <td>432</td>\n",
       "      <td>0</td>\n",
       "      <td>T1wCE</td>\n",
       "    </tr>\n",
       "  </tbody>\n",
       "</table>\n",
       "</div>"
      ]
     },
     "metadata": {}
    },
    {
     "output_type": "stream",
     "name": "stdout",
     "text": [
      "EPOCH: 1\n",
      "[Epoch Train: 1] loss: 0.7423, time: 421.00 s            \n",
      "[Epoch Valid: 1] loss: 0.6930, auc: 0.5332, time: 65.00 s\n",
      "auc improved from inf to 0.6930. Saved model to 'T1wCE-e1-loss0.693-auc0.533.pth'\n",
      "EPOCH: 2\n",
      "[Epoch Train: 2] loss: 0.7117, time: 418.00 s            \n",
      "[Epoch Valid: 2] loss: 0.7248, auc: 0.4309, time: 65.00 s\n",
      "EPOCH: 3\n",
      "[Epoch Train: 3] loss: 0.7095, time: 420.00 s            \n",
      "[Epoch Valid: 3] loss: 0.7601, auc: 0.4147, time: 66.00 s\n",
      "(468, 3) (117, 3)\n"
     ]
    },
    {
     "output_type": "stream",
     "name": "stderr",
     "text": [
      "/opt/conda/lib/python3.7/site-packages/pandas/core/indexing.py:1720: SettingWithCopyWarning: \n",
      "A value is trying to be set on a copy of a slice from a DataFrame.\n",
      "Try using .loc[row_indexer,col_indexer] = value instead\n",
      "\n",
      "See the caveats in the documentation: https://pandas.pydata.org/pandas-docs/stable/user_guide/indexing.html#returning-a-view-versus-a-copy\n",
      "  self._setitem_single_column(loc, value, pi)\n"
     ]
    },
    {
     "output_type": "display_data",
     "data": {
      "text/plain": [
       "     BraTS21ID  MGMT_value MRI_Type\n",
       "102        154           0      T2w\n",
       "161        240           1      T2w\n",
       "508        740           1      T2w\n",
       "495        725           1      T2w\n",
       "298        432           0      T2w"
      ],
      "text/html": [
       "<div>\n",
       "<style scoped>\n",
       "    .dataframe tbody tr th:only-of-type {\n",
       "        vertical-align: middle;\n",
       "    }\n",
       "\n",
       "    .dataframe tbody tr th {\n",
       "        vertical-align: top;\n",
       "    }\n",
       "\n",
       "    .dataframe thead th {\n",
       "        text-align: right;\n",
       "    }\n",
       "</style>\n",
       "<table border=\"1\" class=\"dataframe\">\n",
       "  <thead>\n",
       "    <tr style=\"text-align: right;\">\n",
       "      <th></th>\n",
       "      <th>BraTS21ID</th>\n",
       "      <th>MGMT_value</th>\n",
       "      <th>MRI_Type</th>\n",
       "    </tr>\n",
       "  </thead>\n",
       "  <tbody>\n",
       "    <tr>\n",
       "      <th>102</th>\n",
       "      <td>154</td>\n",
       "      <td>0</td>\n",
       "      <td>T2w</td>\n",
       "    </tr>\n",
       "    <tr>\n",
       "      <th>161</th>\n",
       "      <td>240</td>\n",
       "      <td>1</td>\n",
       "      <td>T2w</td>\n",
       "    </tr>\n",
       "    <tr>\n",
       "      <th>508</th>\n",
       "      <td>740</td>\n",
       "      <td>1</td>\n",
       "      <td>T2w</td>\n",
       "    </tr>\n",
       "    <tr>\n",
       "      <th>495</th>\n",
       "      <td>725</td>\n",
       "      <td>1</td>\n",
       "      <td>T2w</td>\n",
       "    </tr>\n",
       "    <tr>\n",
       "      <th>298</th>\n",
       "      <td>432</td>\n",
       "      <td>0</td>\n",
       "      <td>T2w</td>\n",
       "    </tr>\n",
       "  </tbody>\n",
       "</table>\n",
       "</div>"
      ]
     },
     "metadata": {}
    },
    {
     "output_type": "stream",
     "name": "stdout",
     "text": [
      "EPOCH: 1\n",
      "[Epoch Train: 1] loss: 0.7446, time: 424.00 s            \n",
      "[Epoch Valid: 1] loss: 0.6935, auc: 0.4558, time: 67.00 s\n",
      "auc improved from inf to 0.6935. Saved model to 'T2w-e1-loss0.693-auc0.456.pth'\n",
      "EPOCH: 2\n",
      "[Epoch Train: 2] loss: 0.7149, time: 425.00 s            \n",
      "[Epoch Valid: 2] loss: 0.7225, auc: 0.5632, time: 69.00 s\n",
      "EPOCH: 3\n",
      "[Epoch Train: 3] loss: 0.6970, time: 428.00 s            \n",
      "[Epoch Valid: 3] loss: 0.7051, auc: 0.4410, time: 70.00 s\n",
      "['FLAIR-e3-loss0.693-auc0.532.pth', 'T1w-e3-loss0.695-auc0.496.pth', 'T1wCE-e1-loss0.693-auc0.533.pth', 'T2w-e1-loss0.693-auc0.456.pth']\n"
     ]
    }
   ],
   "metadata": {
    "execution": {
     "iopub.execute_input": "2021-08-06T22:41:03.823301Z",
     "iopub.status.busy": "2021-08-06T22:41:03.817884Z",
     "iopub.status.idle": "2021-08-07T00:17:48.264084Z",
     "shell.execute_reply": "2021-08-07T00:17:48.264648Z",
     "shell.execute_reply.started": "2021-08-06T10:38:40.855454Z"
    },
    "papermill": {
     "duration": 5804.473145,
     "end_time": "2021-08-07T00:17:48.264869",
     "exception": false,
     "start_time": "2021-08-06T22:41:03.791724",
     "status": "completed"
    },
    "tags": []
   }
  },
  {
   "cell_type": "markdown",
   "source": [
    "# Predict"
   ],
   "metadata": {
    "papermill": {
     "duration": 0.63115,
     "end_time": "2021-08-07T00:17:49.483247",
     "exception": false,
     "start_time": "2021-08-07T00:17:48.852097",
     "status": "completed"
    },
    "tags": []
   }
  },
  {
   "cell_type": "code",
   "execution_count": 10,
   "source": [
    "def predict(modelfile,df,mri_type,split):\n",
    "    print('Pridict:',modelfile,mri_type,df.shape)\n",
    "    df.loc[:,'MRI_Type']=mri_type\n",
    "    data_retriever = Dataset(\n",
    "        df.index.values,\n",
    "        mri_type = df['MRI_Type'].values,\n",
    "        split=split\n",
    "    )\n",
    "    \n",
    "    data_loader = torch_data.DataLoader(\n",
    "        data_retriever,\n",
    "        batch_size = 4,\n",
    "        shuffle = False,\n",
    "        num_workers = 8\n",
    "    )\n",
    "    \n",
    "    model = Model()\n",
    "    model.to(device)\n",
    "    \n",
    "    checkpoint = torch.load(modelfile)\n",
    "    model.load_state_dict(checkpoint['model_state_dict'])\n",
    "    model.eval()\n",
    "    \n",
    "    y_pred = []\n",
    "    ids = []\n",
    "    \n",
    "    for e,batch in enumerate(data_loader, 1):\n",
    "        print(f'{e}/{len(data_loader)}',end = '\\r')\n",
    "        with torch.no_grad():\n",
    "            tmp_pred = torch.sigmoid(model(batch['X'].to(device))).cpu().numpy().squeeze()\n",
    "            if tmp_pred.size == 1:\n",
    "                y_pred.append(tmp_pred)\n",
    "            else:\n",
    "                y_pred.extend(tmp_pred.tolist())\n",
    "            ids.extend(batch['id'].numpy().tolist())\n",
    "    \n",
    "    preddf = pd.DataFrame({'BraTS21ID':ids,'MGMT_value':y_pred})\n",
    "    preddf = preddf.set_index('BraTS21ID')\n",
    "    return preddf"
   ],
   "outputs": [],
   "metadata": {
    "execution": {
     "iopub.execute_input": "2021-08-07T00:17:50.434014Z",
     "iopub.status.busy": "2021-08-07T00:17:50.432344Z",
     "iopub.status.idle": "2021-08-07T00:17:50.434668Z",
     "shell.execute_reply": "2021-08-07T00:17:50.435090Z",
     "shell.execute_reply.started": "2021-08-06T12:15:01.074771Z"
    },
    "papermill": {
     "duration": 0.483427,
     "end_time": "2021-08-07T00:17:50.435223",
     "exception": false,
     "start_time": "2021-08-07T00:17:49.951796",
     "status": "completed"
    },
    "tags": []
   }
  },
  {
   "cell_type": "markdown",
   "source": [
    "# Ensemble for validation"
   ],
   "metadata": {
    "papermill": {
     "duration": 0.469267,
     "end_time": "2021-08-07T00:17:51.377517",
     "exception": false,
     "start_time": "2021-08-07T00:17:50.908250",
     "status": "completed"
    },
    "tags": []
   }
  },
  {
   "cell_type": "code",
   "execution_count": 11,
   "source": [
    "df_valid = df_valid.set_index('BraTS21ID')\n",
    "df_valid['MGMT_pred'] = 0\n",
    "for m,mtype in zip(modelfiles, mri_types):\n",
    "    pred = predict(m, df_valid,mtype,'train')\n",
    "    df_valid['MGMT_pred'] += pred['MGMT_value']\n",
    "df_valid['MGMT_pred']/=len(modelfiles)\n",
    "auc = roc_auc_score(df_valid['MGMT_value'],df_valid['MGMT_pred'])\n",
    "print(f'Validtion ensemble AUC:{auc:.4f}')\n",
    "sns.displot(df_valid['MGMT_pred'])"
   ],
   "outputs": [
    {
     "output_type": "stream",
     "name": "stdout",
     "text": [
      "Pridict: FLAIR-e3-loss0.693-auc0.532.pth FLAIR (117, 3)\n",
      "Pridict: T1w-e3-loss0.695-auc0.496.pth T1w (117, 3)\n",
      "Pridict: T1wCE-e1-loss0.693-auc0.533.pth T1wCE (117, 3)\n",
      "Pridict: T2w-e1-loss0.693-auc0.456.pth T2w (117, 3)\n",
      "Validtion ensemble AUC:0.5105\n"
     ]
    },
    {
     "output_type": "execute_result",
     "data": {
      "text/plain": [
       "<seaborn.axisgrid.FacetGrid at 0x7ff74c219a10>"
      ]
     },
     "metadata": {},
     "execution_count": 11
    },
    {
     "output_type": "display_data",
     "data": {
      "text/plain": [
       "<Figure size 360x360 with 1 Axes>"
      ],
      "image/png": "[encoded data removed]"
     },
     "metadata": {
      "needs_background": "light"
     }
    }
   ],
   "metadata": {
    "execution": {
     "iopub.execute_input": "2021-08-07T00:17:52.329285Z",
     "iopub.status.busy": "2021-08-07T00:17:52.328543Z",
     "iopub.status.idle": "2021-08-07T00:22:16.985901Z",
     "shell.execute_reply": "2021-08-07T00:22:16.985461Z",
     "shell.execute_reply.started": "2021-08-06T12:15:09.49114Z"
    },
    "papermill": {
     "duration": 265.13994,
     "end_time": "2021-08-07T00:22:16.986047",
     "exception": false,
     "start_time": "2021-08-07T00:17:51.846107",
     "status": "completed"
    },
    "tags": []
   }
  },
  {
   "cell_type": "markdown",
   "source": [
    "# Ensemble for submission"
   ],
   "metadata": {
    "papermill": {
     "duration": 0.497494,
     "end_time": "2021-08-07T00:22:17.988959",
     "exception": false,
     "start_time": "2021-08-07T00:22:17.491465",
     "status": "completed"
    },
    "tags": []
   }
  },
  {
   "cell_type": "code",
   "execution_count": 12,
   "source": [
    "submission = pd.read_csv(f'{data_directory}/sample_submission.csv',index_col = 'BraTS21ID')\n",
    "submission['MGMT_value'] = 0\n",
    "for m, mtype in zip(modelfiles,mri_types):\n",
    "    pred = predict(m, submission, mtype, split='test')\n",
    "    submission['MGMT_value'] += pred['MGMT_value']\n",
    "    \n",
    "submission['MGMT_value']/=len(modelfiles)\n",
    "submission['MGMT_value'].to_csv('submission.csv')"
   ],
   "outputs": [
    {
     "output_type": "stream",
     "name": "stdout",
     "text": [
      "Pridict: FLAIR-e3-loss0.693-auc0.532.pth FLAIR (87, 1)\n",
      "Pridict: T1w-e3-loss0.695-auc0.496.pth T1w (87, 2)\n",
      "Pridict: T1wCE-e1-loss0.693-auc0.533.pth T1wCE (87, 2)\n",
      "Pridict: T2w-e1-loss0.693-auc0.456.pth T2w (87, 2)\n",
      "22/22\r"
     ]
    }
   ],
   "metadata": {
    "execution": {
     "iopub.execute_input": "2021-08-07T00:22:19.011642Z",
     "iopub.status.busy": "2021-08-07T00:22:19.011104Z",
     "iopub.status.idle": "2021-08-07T00:25:33.369760Z",
     "shell.execute_reply": "2021-08-07T00:25:33.368797Z",
     "shell.execute_reply.started": "2021-08-06T12:19:46.634291Z"
    },
    "papermill": {
     "duration": 194.882044,
     "end_time": "2021-08-07T00:25:33.369919",
     "exception": false,
     "start_time": "2021-08-07T00:22:18.487875",
     "status": "completed"
    },
    "tags": []
   }
  },
  {
   "cell_type": "code",
   "execution_count": 13,
   "source": [
    "submission"
   ],
   "outputs": [
    {
     "output_type": "execute_result",
     "data": {
      "text/plain": [
       "           MGMT_value MRI_Type\n",
       "BraTS21ID                     \n",
       "1            0.500222      T2w\n",
       "13           0.500248      T2w\n",
       "15           0.500345      T2w\n",
       "27           0.498938      T2w\n",
       "37           0.499640      T2w\n",
       "...               ...      ...\n",
       "826          0.500539      T2w\n",
       "829          0.499171      T2w\n",
       "833          0.499943      T2w\n",
       "997          0.507438      T2w\n",
       "1006         0.499620      T2w\n",
       "\n",
       "[87 rows x 2 columns]"
      ],
      "text/html": [
       "<div>\n",
       "<style scoped>\n",
       "    .dataframe tbody tr th:only-of-type {\n",
       "        vertical-align: middle;\n",
       "    }\n",
       "\n",
       "    .dataframe tbody tr th {\n",
       "        vertical-align: top;\n",
       "    }\n",
       "\n",
       "    .dataframe thead th {\n",
       "        text-align: right;\n",
       "    }\n",
       "</style>\n",
       "<table border=\"1\" class=\"dataframe\">\n",
       "  <thead>\n",
       "    <tr style=\"text-align: right;\">\n",
       "      <th></th>\n",
       "      <th>MGMT_value</th>\n",
       "      <th>MRI_Type</th>\n",
       "    </tr>\n",
       "    <tr>\n",
       "      <th>BraTS21ID</th>\n",
       "      <th></th>\n",
       "      <th></th>\n",
       "    </tr>\n",
       "  </thead>\n",
       "  <tbody>\n",
       "    <tr>\n",
       "      <th>1</th>\n",
       "      <td>0.500222</td>\n",
       "      <td>T2w</td>\n",
       "    </tr>\n",
       "    <tr>\n",
       "      <th>13</th>\n",
       "      <td>0.500248</td>\n",
       "      <td>T2w</td>\n",
       "    </tr>\n",
       "    <tr>\n",
       "      <th>15</th>\n",
       "      <td>0.500345</td>\n",
       "      <td>T2w</td>\n",
       "    </tr>\n",
       "    <tr>\n",
       "      <th>27</th>\n",
       "      <td>0.498938</td>\n",
       "      <td>T2w</td>\n",
       "    </tr>\n",
       "    <tr>\n",
       "      <th>37</th>\n",
       "      <td>0.499640</td>\n",
       "      <td>T2w</td>\n",
       "    </tr>\n",
       "    <tr>\n",
       "      <th>...</th>\n",
       "      <td>...</td>\n",
       "      <td>...</td>\n",
       "    </tr>\n",
       "    <tr>\n",
       "      <th>826</th>\n",
       "      <td>0.500539</td>\n",
       "      <td>T2w</td>\n",
       "    </tr>\n",
       "    <tr>\n",
       "      <th>829</th>\n",
       "      <td>0.499171</td>\n",
       "      <td>T2w</td>\n",
       "    </tr>\n",
       "    <tr>\n",
       "      <th>833</th>\n",
       "      <td>0.499943</td>\n",
       "      <td>T2w</td>\n",
       "    </tr>\n",
       "    <tr>\n",
       "      <th>997</th>\n",
       "      <td>0.507438</td>\n",
       "      <td>T2w</td>\n",
       "    </tr>\n",
       "    <tr>\n",
       "      <th>1006</th>\n",
       "      <td>0.499620</td>\n",
       "      <td>T2w</td>\n",
       "    </tr>\n",
       "  </tbody>\n",
       "</table>\n",
       "<p>87 rows × 2 columns</p>\n",
       "</div>"
      ]
     },
     "metadata": {},
     "execution_count": 13
    }
   ],
   "metadata": {
    "execution": {
     "iopub.execute_input": "2021-08-07T00:25:34.695710Z",
     "iopub.status.busy": "2021-08-07T00:25:34.694914Z",
     "iopub.status.idle": "2021-08-07T00:25:34.715207Z",
     "shell.execute_reply": "2021-08-07T00:25:34.716344Z",
     "shell.execute_reply.started": "2021-08-06T12:24:59.627269Z"
    },
    "papermill": {
     "duration": 0.782667,
     "end_time": "2021-08-07T00:25:34.716561",
     "exception": false,
     "start_time": "2021-08-07T00:25:33.933894",
     "status": "completed"
    },
    "tags": []
   }
  },
  {
   "cell_type": "code",
   "execution_count": 14,
   "source": [
    "from IPython.display import FileLink\n",
    "for modelfile in modelfiles:\n",
    "    FileLink(modelfile)"
   ],
   "outputs": [],
   "metadata": {
    "execution": {
     "iopub.execute_input": "2021-08-07T00:25:36.192247Z",
     "iopub.status.busy": "2021-08-07T00:25:36.191514Z",
     "iopub.status.idle": "2021-08-07T00:25:36.194662Z",
     "shell.execute_reply": "2021-08-07T00:25:36.194219Z",
     "shell.execute_reply.started": "2021-08-06T12:28:52.010912Z"
    },
    "papermill": {
     "duration": 0.577745,
     "end_time": "2021-08-07T00:25:36.194781",
     "exception": false,
     "start_time": "2021-08-07T00:25:35.617036",
     "status": "completed"
    },
    "tags": []
   }
  },
  {
   "cell_type": "code",
   "execution_count": null,
   "source": [],
   "outputs": [],
   "metadata": {
    "papermill": {
     "duration": 0.568723,
     "end_time": "2021-08-07T00:25:37.330197",
     "exception": false,
     "start_time": "2021-08-07T00:25:36.761474",
     "status": "completed"
    },
    "tags": []
   }
  }
 ],
 "metadata": {
  "kernelspec": {
   "display_name": "Python 3",
   "language": "python",
   "name": "python3"
  },
  "language_info": {
   "codemirror_mode": {
    "name": "ipython",
    "version": 3
   },
   "file_extension": ".py",
   "mimetype": "text/x-python",
   "name": "python",
   "nbconvert_exporter": "python",
   "pygments_lexer": "ipython3",
   "version": "3.7.10"
  },
  "papermill": {
   "default_parameters": {},
   "duration": 6289.136517,
   "end_time": "2021-08-07T00:25:40.464568",
   "environment_variables": {},
   "exception": null,
   "input_path": "__notebook__.ipynb",
   "output_path": "__notebook__.ipynb",
   "parameters": {},
   "start_time": "2021-08-06T22:40:51.328051",
   "version": "2.3.3"
  }
 },
 "nbformat": 4,
 "nbformat_minor": 5
}